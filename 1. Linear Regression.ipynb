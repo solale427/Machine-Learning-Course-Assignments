{
 "cells": [
  {
   "cell_type": "markdown",
   "id": "16adc323",
   "metadata": {},
   "source": [
    "<br><font face=\"Times New Roman\" size=5><div dir=ltr align=center>\n",
    "<font color=blue size=8>\n",
    "    Introduction to Machine Learning <br>\n",
    "<font color=red size=5>\n",
    "    Sharif University of Technology - Computer Engineering Department <br>\n",
    "    Fall 2022<br> <br>\n",
    "<font color=black size=6>\n",
    "    Homework 2: Practical - Linear Regression\n",
    "    </div>\n",
    "<br><br>\n",
    "<font size=4>\n",
    "   **Name**: Seiede Solale Mohammadi <br>\n",
    "   **Student ID**: 98106015<br> <br>"
   ]
  },
  {
   "cell_type": "markdown",
   "id": "2585264a",
   "metadata": {},
   "source": [
    "<font face=\"Times New Roman\" size=4><div dir=ltr>\n",
    "# Problem 1: Linear Regression Model (40 + 30 optional points)\n",
    "According to <a href=\"https://github.com/asharifiz/Introduction_to_Machine_Learning/blob/main/Jupyter_Notebooks/Chapter_02_Classical_Models/Linear%20regression.ipynb\"><font face=\"Roboto\">Linear Regression Notebook</font></a>, train a linear regression model on an arbitrary dataset. Explain your chosen dataset and split your data into train and test sets, then predict values for the test set using your trained model. Try to find the best hyperparameters for your model. (Using Lasso Regression, Ridge Regression or Elastic Net and comparing them will have extra optional points)\n",
    "<br> Explain each step of your workflow."
   ]
  },
  {
   "cell_type": "code",
   "execution_count": 61,
   "outputs": [],
   "source": [
    "import numpy as np\n",
    "import pandas as pd\n",
    "from sklearn.model_selection import train_test_split"
   ],
   "metadata": {
    "collapsed": false
   }
  },
  {
   "cell_type": "code",
   "execution_count": 62,
   "outputs": [],
   "source": [
    "class Regression:\n",
    "    def __init__(self, n_iter, alpha):\n",
    "        self.n_iter = n_iter\n",
    "        self.alpha = alpha\n",
    "        self.theta = None\n",
    "        self.bias = 0\n",
    "\n",
    "    def update_params(self, theta_grad, b_grad, n):\n",
    "        self.theta -= self.alpha * theta_grad\n",
    "        self.bias -= self.alpha * b_grad\n",
    "\n",
    "    def grads(self, error, X):\n",
    "        raise NotImplemented\n",
    "\n",
    "    def fit(self, X, y):\n",
    "        self.theta = np.zeros((X.shape[1],))\n",
    "        n = X.shape[0]\n",
    "\n",
    "        for it in range(self.n_iter):\n",
    "            error = self.predict(X).flatten() - y\n",
    "            theta_grad, b_grad = self.grads(error, X)\n",
    "            self.update_params(theta_grad, b_grad, n)\n",
    "\n",
    "    def predict(self, x):\n",
    "        return np.dot(x, self.theta) + self.bias\n"
   ],
   "metadata": {
    "collapsed": false
   }
  },
  {
   "cell_type": "code",
   "execution_count": 63,
   "id": "387d3a07",
   "metadata": {},
   "outputs": [],
   "source": [
    "class LinearRegression(Regression):\n",
    "    def __init__(self, n_iter, alpha):\n",
    "        super().__init__(n_iter, alpha)\n",
    "\n",
    "    def grads(self, error, X):\n",
    "        theta_grad = np.dot(X.T, error) / X.shape[0]\n",
    "        b_grad = np.sum(error) / X.shape[0]\n",
    "        return theta_grad, b_grad"
   ]
  },
  {
   "cell_type": "code",
   "execution_count": 64,
   "outputs": [],
   "source": [
    "class RidgeRegression(Regression):\n",
    "    def __init__(self, n_iter, alpha, l2_p):\n",
    "        super().__init__(n_iter, alpha)\n",
    "        self.l2_p = l2_p\n",
    "\n",
    "    def grads(self, error, X):\n",
    "        theta_grad = 2 * np.dot(X.T, error) / X.shape[0] + 2 * self.l2_p * self.theta\n",
    "        b_grad = 2 * np.sum(error) / X.shape[0] + 2 * self.l2_p * self.bias\n",
    "        return theta_grad, b_grad\n",
    "\n",
    "    def predict(self, x):\n",
    "        return np.dot(x, self.theta) + self.bias"
   ],
   "metadata": {
    "collapsed": false
   }
  },
  {
   "cell_type": "code",
   "execution_count": 65,
   "outputs": [],
   "source": [
    "class LassoRegression(Regression):\n",
    "    def __init__(self, n_iter, alpha, l1_p):\n",
    "        super().__init__(n_iter, alpha)\n",
    "        self.l1_p = l1_p\n",
    "\n",
    "    def grads(self, error, X):\n",
    "        theta_grad = np.dot(X.T, error) / X.shape[0] + self.l1_p * np.sign(self.theta)\n",
    "        b_grad = np.sum(error) / X.shape[0] + self.l1_p * np.sign(self.bias)\n",
    "        return theta_grad, b_grad"
   ],
   "metadata": {
    "collapsed": false
   }
  },
  {
   "cell_type": "code",
   "execution_count": 66,
   "outputs": [],
   "source": [
    "class ElasticNetRegression(Regression):\n",
    "    def __init__(self, n_iter, alpha, l1_p, ratio):\n",
    "        super().__init__(n_iter, alpha)\n",
    "        self.l1_p = l1_p\n",
    "        self.ratio = ratio\n",
    "\n",
    "    def grads(self, error, X):\n",
    "        theta_grad = np.dot(X.T, error) / X.shape[0] + self.ratio * self.l1_p * np.sign(self.theta) + (\n",
    "                1 - self.ratio) * self.l1_p * self.theta\n",
    "        b_grad = np.sum(error) / X.shape[0] + self.ratio * self.l1_p * np.sign(self.bias) + (\n",
    "                1 - self.ratio) * self.l1_p * self.bias\n",
    "        return theta_grad, b_grad"
   ],
   "metadata": {
    "collapsed": false
   }
  },
  {
   "cell_type": "code",
   "execution_count": 67,
   "outputs": [],
   "source": [
    "def rmse(y, y_p):\n",
    "    return np.sqrt(np.sum((y_p - y) ** 2) / y.shape[0])"
   ],
   "metadata": {
    "collapsed": false
   }
  },
  {
   "cell_type": "code",
   "execution_count": 68,
   "outputs": [
    {
     "data": {
      "text/plain": "   Apparent Temperature (C)  Humidity  Wind Speed (km/h)  \\\n0                  7.388889      0.89            14.1197   \n1                  7.227778      0.86            14.2646   \n2                  9.377778      0.89             3.9284   \n3                  5.944444      0.83            14.1036   \n4                  6.977778      0.83            11.0446   \n\n   Wind Bearing (degrees)  Visibility (km)  Pressure (millibars)  \n0                   251.0          15.8263               1015.13  \n1                   259.0          15.8263               1015.63  \n2                   204.0          14.9569               1015.94  \n3                   269.0          15.8263               1016.41  \n4                   259.0          15.8263               1016.51  ",
      "text/html": "<div>\n<style scoped>\n    .dataframe tbody tr th:only-of-type {\n        vertical-align: middle;\n    }\n\n    .dataframe tbody tr th {\n        vertical-align: top;\n    }\n\n    .dataframe thead th {\n        text-align: right;\n    }\n</style>\n<table border=\"1\" class=\"dataframe\">\n  <thead>\n    <tr style=\"text-align: right;\">\n      <th></th>\n      <th>Apparent Temperature (C)</th>\n      <th>Humidity</th>\n      <th>Wind Speed (km/h)</th>\n      <th>Wind Bearing (degrees)</th>\n      <th>Visibility (km)</th>\n      <th>Pressure (millibars)</th>\n    </tr>\n  </thead>\n  <tbody>\n    <tr>\n      <th>0</th>\n      <td>7.388889</td>\n      <td>0.89</td>\n      <td>14.1197</td>\n      <td>251.0</td>\n      <td>15.8263</td>\n      <td>1015.13</td>\n    </tr>\n    <tr>\n      <th>1</th>\n      <td>7.227778</td>\n      <td>0.86</td>\n      <td>14.2646</td>\n      <td>259.0</td>\n      <td>15.8263</td>\n      <td>1015.63</td>\n    </tr>\n    <tr>\n      <th>2</th>\n      <td>9.377778</td>\n      <td>0.89</td>\n      <td>3.9284</td>\n      <td>204.0</td>\n      <td>14.9569</td>\n      <td>1015.94</td>\n    </tr>\n    <tr>\n      <th>3</th>\n      <td>5.944444</td>\n      <td>0.83</td>\n      <td>14.1036</td>\n      <td>269.0</td>\n      <td>15.8263</td>\n      <td>1016.41</td>\n    </tr>\n    <tr>\n      <th>4</th>\n      <td>6.977778</td>\n      <td>0.83</td>\n      <td>11.0446</td>\n      <td>259.0</td>\n      <td>15.8263</td>\n      <td>1016.51</td>\n    </tr>\n  </tbody>\n</table>\n</div>"
     },
     "execution_count": 68,
     "metadata": {},
     "output_type": "execute_result"
    }
   ],
   "source": [
    "df = pd.read_csv('data/weatherHistory.csv')\n",
    "df.head()\n",
    "X_d = df[['Apparent Temperature (C)', 'Humidity', 'Wind Speed (km/h)',\n",
    "          'Wind Bearing (degrees)', 'Visibility (km)', 'Pressure (millibars)']]\n",
    "y_d = df['Temperature (C)']\n",
    "X_d.head()"
   ],
   "metadata": {
    "collapsed": false
   }
  },
  {
   "cell_type": "code",
   "execution_count": 69,
   "outputs": [
    {
     "data": {
      "text/plain": "   Apparent Temperature (C)  Humidity  Wind Speed (km/h)  \\\n0                  0.523486      0.89           0.221130   \n1                  0.521084      0.86           0.223399   \n2                  0.553144      0.89           0.061523   \n3                  0.501947      0.83           0.220877   \n4                  0.517356      0.83           0.172970   \n\n   Wind Bearing (degrees)  Visibility (km)  Pressure (millibars)  \n0                0.699164            0.983              0.970135  \n1                0.721448            0.983              0.970613  \n2                0.568245            0.929              0.970909  \n3                0.749304            0.983              0.971358  \n4                0.721448            0.983              0.971454  ",
      "text/html": "<div>\n<style scoped>\n    .dataframe tbody tr th:only-of-type {\n        vertical-align: middle;\n    }\n\n    .dataframe tbody tr th {\n        vertical-align: top;\n    }\n\n    .dataframe thead th {\n        text-align: right;\n    }\n</style>\n<table border=\"1\" class=\"dataframe\">\n  <thead>\n    <tr style=\"text-align: right;\">\n      <th></th>\n      <th>Apparent Temperature (C)</th>\n      <th>Humidity</th>\n      <th>Wind Speed (km/h)</th>\n      <th>Wind Bearing (degrees)</th>\n      <th>Visibility (km)</th>\n      <th>Pressure (millibars)</th>\n    </tr>\n  </thead>\n  <tbody>\n    <tr>\n      <th>0</th>\n      <td>0.523486</td>\n      <td>0.89</td>\n      <td>0.221130</td>\n      <td>0.699164</td>\n      <td>0.983</td>\n      <td>0.970135</td>\n    </tr>\n    <tr>\n      <th>1</th>\n      <td>0.521084</td>\n      <td>0.86</td>\n      <td>0.223399</td>\n      <td>0.721448</td>\n      <td>0.983</td>\n      <td>0.970613</td>\n    </tr>\n    <tr>\n      <th>2</th>\n      <td>0.553144</td>\n      <td>0.89</td>\n      <td>0.061523</td>\n      <td>0.568245</td>\n      <td>0.929</td>\n      <td>0.970909</td>\n    </tr>\n    <tr>\n      <th>3</th>\n      <td>0.501947</td>\n      <td>0.83</td>\n      <td>0.220877</td>\n      <td>0.749304</td>\n      <td>0.983</td>\n      <td>0.971358</td>\n    </tr>\n    <tr>\n      <th>4</th>\n      <td>0.517356</td>\n      <td>0.83</td>\n      <td>0.172970</td>\n      <td>0.721448</td>\n      <td>0.983</td>\n      <td>0.971454</td>\n    </tr>\n  </tbody>\n</table>\n</div>"
     },
     "execution_count": 69,
     "metadata": {},
     "output_type": "execute_result"
    }
   ],
   "source": [
    "min_params = X_d.min()\n",
    "max_params = X_d.max()\n",
    "X_d = (X_d - min_params) / (max_params - min_params)\n",
    "X_d.head()"
   ],
   "metadata": {
    "collapsed": false
   }
  },
  {
   "cell_type": "code",
   "execution_count": 70,
   "outputs": [
    {
     "data": {
      "text/plain": "(77162, 6)"
     },
     "execution_count": 70,
     "metadata": {},
     "output_type": "execute_result"
    }
   ],
   "source": [
    "x_train, x_val, y_train, y_val = train_test_split(X_d, y_d, test_size=0.20, random_state=42)\n",
    "x_train.shape"
   ],
   "metadata": {
    "collapsed": false
   }
  },
  {
   "cell_type": "code",
   "execution_count": 71,
   "outputs": [
    {
     "name": "stdout",
     "output_type": "stream",
     "text": [
      "alpha: 0.5, iter: 500 -> rmse : 1.3082625369709613\n",
      "alpha: 0.1, iter: 500 -> rmse : 3.116959894897317\n",
      "alpha: 0.01, iter: 500 -> rmse : 7.545722762130821\n",
      "alpha: 0.001, iter: 500 -> rmse : 9.388790380639366\n",
      "alpha: 0.5, iter: 1000 -> rmse : 1.0083553614519478\n",
      "alpha: 0.1, iter: 1000 -> rmse : 2.1138470180796314\n",
      "alpha: 0.01, iter: 1000 -> rmse : 6.329975350131406\n",
      "alpha: 0.001, iter: 1000 -> rmse : 8.959770814228527\n",
      "alpha: 0.5, iter: 3000 -> rmse : 0.948222890972822\n",
      "alpha: 0.1, iter: 3000 -> rmse : 1.2024423850227657\n",
      "alpha: 0.01, iter: 3000 -> rmse : 4.0680485154806885\n",
      "alpha: 0.001, iter: 3000 -> rmse : 8.19008197699283\n",
      "alpha: 0.5, iter: 5000 -> rmse : 0.9482218377735062\n",
      "alpha: 0.1, iter: 5000 -> rmse : 1.0085240530031783\n",
      "alpha: 0.01, iter: 5000 -> rmse : 3.1184695482297715\n",
      "alpha: 0.001, iter: 5000 -> rmse : 7.546130046068973\n"
     ]
    }
   ],
   "source": [
    "for n_it in [500, 1000, 3000, 5000]:\n",
    "    for alpha in [0.5, 0.1, 0.01, 0.001]:\n",
    "        model = LinearRegression(n_iter=n_it, alpha=alpha)\n",
    "        model.fit(x_train, y_train)\n",
    "        y_pred = model.predict(x_val)\n",
    "        if y_pred is None:\n",
    "            res = 'diverge'\n",
    "        else:\n",
    "            res = rmse(y=y_val, y_p=y_pred)\n",
    "        print(f'alpha: {alpha}, iter: {n_it} -> rmse : {res}')"
   ],
   "metadata": {
    "collapsed": false
   }
  },
  {
   "cell_type": "code",
   "execution_count": 72,
   "outputs": [
    {
     "name": "stdout",
     "output_type": "stream",
     "text": [
      "alpha: 0.1, iter: 500 l2_param: 0.01 -> rmse : 3.1711874526250856\n",
      "alpha: 0.1, iter: 500 l2_param: 0.05 -> rmse : 5.588078534398759\n",
      "alpha: 0.1, iter: 500 l2_param: 0.1 -> rmse : 6.767254635044586\n",
      "alpha: 0.01, iter: 500 l2_param: 0.01 -> rmse : 6.447138963175827\n",
      "alpha: 0.01, iter: 500 l2_param: 0.05 -> rmse : 6.866433799020907\n",
      "alpha: 0.01, iter: 500 l2_param: 0.1 -> rmse : 7.287946916426394\n",
      "alpha: 0.1, iter: 1000 l2_param: 0.01 -> rmse : 2.965715448742652\n",
      "alpha: 0.1, iter: 1000 l2_param: 0.05 -> rmse : 5.586712220232421\n",
      "alpha: 0.1, iter: 1000 l2_param: 0.1 -> rmse : 6.767250169919528\n",
      "alpha: 0.01, iter: 1000 l2_param: 0.01 -> rmse : 5.165450650578604\n",
      "alpha: 0.01, iter: 1000 l2_param: 0.05 -> rmse : 6.090718986969882\n",
      "alpha: 0.01, iter: 1000 l2_param: 0.1 -> rmse : 6.886489617097173\n",
      "alpha: 0.1, iter: 3000 l2_param: 0.01 -> rmse : 2.9308093400509043\n",
      "alpha: 0.1, iter: 3000 l2_param: 0.05 -> rmse : 5.58670961326033\n",
      "alpha: 0.1, iter: 3000 l2_param: 0.1 -> rmse : 6.767250169871234\n",
      "alpha: 0.01, iter: 3000 l2_param: 0.01 -> rmse : 3.565115715462692\n",
      "alpha: 0.01, iter: 3000 l2_param: 0.05 -> rmse : 5.60898640072771\n",
      "alpha: 0.01, iter: 3000 l2_param: 0.1 -> rmse : 6.767874014851953\n"
     ]
    }
   ],
   "source": [
    "for n_it in [500, 1000, 3000]:\n",
    "    for alpha in [0.1, 0.01]:\n",
    "        for l2_param in [0.01, 0.05, 0.1]:\n",
    "            model = RidgeRegression(n_iter=n_it, alpha=alpha, l2_p=l2_param)\n",
    "            model.fit(x_train, y_train)\n",
    "            y_pred = model.predict(x_val)\n",
    "            if y_pred is None:\n",
    "                res = 'diverge'\n",
    "            else:\n",
    "                res = rmse(y=y_val, y_p=y_pred)\n",
    "            print(f'alpha: {alpha}, iter: {n_it} l2_param: {l2_param} -> rmse : {res}')"
   ],
   "metadata": {
    "collapsed": false
   }
  },
  {
   "cell_type": "code",
   "execution_count": 73,
   "outputs": [
    {
     "name": "stdout",
     "output_type": "stream",
     "text": [
      "alpha: 0.1, iter: 500 l1_param: 0.5 -> rmse : 4.782573027954316\n",
      "alpha: 0.1, iter: 500 l1_param: 0.1 -> rmse : 3.284123967456391\n",
      "alpha: 0.1, iter: 500 l1_param: 0.1 -> rmse : 3.284123967456391\n",
      "alpha: 0.01, iter: 500 l1_param: 0.5 -> rmse : 7.991148244246787\n",
      "alpha: 0.01, iter: 500 l1_param: 0.1 -> rmse : 7.6259473361780135\n",
      "alpha: 0.01, iter: 500 l1_param: 0.1 -> rmse : 7.6259473361780135\n",
      "alpha: 0.1, iter: 1000 l1_param: 0.5 -> rmse : 4.170518596495713\n",
      "alpha: 0.1, iter: 1000 l1_param: 0.1 -> rmse : 2.457037606268117\n",
      "alpha: 0.1, iter: 1000 l1_param: 0.1 -> rmse : 2.457037606268117\n",
      "alpha: 0.01, iter: 1000 l1_param: 0.5 -> rmse : 7.1832422373715215\n",
      "alpha: 0.01, iter: 1000 l1_param: 0.1 -> rmse : 6.480903522529443\n",
      "alpha: 0.01, iter: 1000 l1_param: 0.1 -> rmse : 6.480903522529443\n",
      "alpha: 0.1, iter: 3000 l1_param: 0.5 -> rmse : 4.110984522337069\n",
      "alpha: 0.1, iter: 3000 l1_param: 0.1 -> rmse : 1.7842052483007065\n",
      "alpha: 0.1, iter: 3000 l1_param: 0.1 -> rmse : 1.7842052483007065\n",
      "alpha: 0.01, iter: 3000 l1_param: 0.5 -> rmse : 5.485562829386328\n",
      "alpha: 0.01, iter: 3000 l1_param: 0.1 -> rmse : 4.224382473562525\n",
      "alpha: 0.01, iter: 3000 l1_param: 0.1 -> rmse : 4.224382473562525\n"
     ]
    }
   ],
   "source": [
    "for n_it in [500, 1000, 3000]:\n",
    "    for alpha in [0.1, 0.01]:\n",
    "        for l1_param in [0.5, 0.1, 0.1]:\n",
    "            model = LassoRegression(n_iter=n_it, alpha=alpha, l1_p=l1_param)\n",
    "            model.fit(x_train, y_train)\n",
    "            y_pred = model.predict(x_val)\n",
    "            if y_pred is None:\n",
    "                res = 'diverge'\n",
    "            else:\n",
    "                res = rmse(y=y_val, y_p=y_pred)\n",
    "            print(f'alpha: {alpha}, iter: {n_it} l1_param: {l1_param} -> rmse : {res}')"
   ],
   "metadata": {
    "collapsed": false
   }
  },
  {
   "cell_type": "code",
   "execution_count": 74,
   "outputs": [
    {
     "name": "stdout",
     "output_type": "stream",
     "text": [
      "alpha: 0.1, iter: 500 l1_param: 0.5 ration: 0.2 -> rmse : 8.595933527748969\n",
      "alpha: 0.1, iter: 500 l1_param: 0.5 ration: 0.5 -> rmse : 8.283877296536176\n",
      "alpha: 0.1, iter: 500 l1_param: 0.5 ration: 0.8 -> rmse : 7.454757149803114\n",
      "alpha: 0.1, iter: 500 l1_param: 0.1 ration: 0.2 -> rmse : 6.4415713423213\n",
      "alpha: 0.1, iter: 500 l1_param: 0.1 ration: 0.5 -> rmse : 5.728526587789148\n",
      "alpha: 0.1, iter: 500 l1_param: 0.1 ration: 0.8 -> rmse : 4.5089523391588315\n",
      "alpha: 0.1, iter: 500 l1_param: 0.05 ration: 0.2 -> rmse : 5.298438199543474\n",
      "alpha: 0.1, iter: 500 l1_param: 0.05 ration: 0.5 -> rmse : 4.665991231038023\n",
      "alpha: 0.1, iter: 500 l1_param: 0.05 ration: 0.8 -> rmse : 3.8319493394067456\n",
      "alpha: 0.01, iter: 500 l1_param: 0.5 ration: 0.2 -> rmse : 8.656846307293126\n",
      "alpha: 0.01, iter: 500 l1_param: 0.5 ration: 0.5 -> rmse : 8.469098783828226\n",
      "alpha: 0.01, iter: 500 l1_param: 0.5 ration: 0.8 -> rmse : 8.21613769160368\n",
      "alpha: 0.01, iter: 500 l1_param: 0.1 ration: 0.2 -> rmse : 7.857094582232565\n",
      "alpha: 0.01, iter: 500 l1_param: 0.1 ration: 0.5 -> rmse : 7.775745609421598\n",
      "alpha: 0.01, iter: 500 l1_param: 0.1 ration: 0.8 -> rmse : 7.688104494010744\n",
      "alpha: 0.01, iter: 500 l1_param: 0.05 ration: 0.2 -> rmse : 7.709100660114849\n",
      "alpha: 0.01, iter: 500 l1_param: 0.05 ration: 0.5 -> rmse : 7.6641046848789935\n",
      "alpha: 0.01, iter: 500 l1_param: 0.05 ration: 0.8 -> rmse : 7.617471640767004\n",
      "alpha: 0.1, iter: 1000 l1_param: 0.5 ration: 0.2 -> rmse : 8.59593352763111\n",
      "alpha: 0.1, iter: 1000 l1_param: 0.5 ration: 0.5 -> rmse : 8.283876875638132\n",
      "alpha: 0.1, iter: 1000 l1_param: 0.5 ration: 0.8 -> rmse : 7.45332328495527\n",
      "alpha: 0.1, iter: 1000 l1_param: 0.1 ration: 0.2 -> rmse : 6.434674315194221\n",
      "alpha: 0.1, iter: 1000 l1_param: 0.1 ration: 0.5 -> rmse : 5.684307660173421\n",
      "alpha: 0.1, iter: 1000 l1_param: 0.1 ration: 0.8 -> rmse : 4.214440226436359\n",
      "alpha: 0.1, iter: 1000 l1_param: 0.05 ration: 0.2 -> rmse : 5.214991075107839\n",
      "alpha: 0.1, iter: 1000 l1_param: 0.05 ration: 0.5 -> rmse : 4.441899543865733\n",
      "alpha: 0.1, iter: 1000 l1_param: 0.05 ration: 0.8 -> rmse : 3.3026238366926566\n",
      "alpha: 0.01, iter: 1000 l1_param: 0.5 ration: 0.2 -> rmse : 8.602219193943561\n",
      "alpha: 0.01, iter: 1000 l1_param: 0.5 ration: 0.5 -> rmse : 8.324729940137074\n",
      "alpha: 0.01, iter: 1000 l1_param: 0.5 ration: 0.8 -> rmse : 7.81665762538744\n",
      "alpha: 0.01, iter: 1000 l1_param: 0.1 ration: 0.2 -> rmse : 7.157441984245335\n",
      "alpha: 0.01, iter: 1000 l1_param: 0.1 ration: 0.5 -> rmse : 6.934341306516329\n",
      "alpha: 0.01, iter: 1000 l1_param: 0.1 ration: 0.8 -> rmse : 6.675847825541491\n",
      "alpha: 0.01, iter: 1000 l1_param: 0.05 ration: 0.2 -> rmse : 6.7831944949563\n",
      "alpha: 0.01, iter: 1000 l1_param: 0.05 ration: 0.5 -> rmse : 6.6491764544415926\n",
      "alpha: 0.01, iter: 1000 l1_param: 0.05 ration: 0.8 -> rmse : 6.5048238679599235\n",
      "alpha: 0.1, iter: 3000 l1_param: 0.5 ration: 0.2 -> rmse : 8.59593352763111\n",
      "alpha: 0.1, iter: 3000 l1_param: 0.5 ration: 0.5 -> rmse : 8.283876875637532\n",
      "alpha: 0.1, iter: 3000 l1_param: 0.5 ration: 0.8 -> rmse : 7.453222607956951\n",
      "alpha: 0.1, iter: 3000 l1_param: 0.1 ration: 0.2 -> rmse : 6.434627355506335\n",
      "alpha: 0.1, iter: 3000 l1_param: 0.1 ration: 0.5 -> rmse : 5.68283371698611\n",
      "alpha: 0.1, iter: 3000 l1_param: 0.1 ration: 0.8 -> rmse : 4.1822438643873125\n",
      "alpha: 0.1, iter: 3000 l1_param: 0.05 ration: 0.2 -> rmse : 5.210313794225169\n",
      "alpha: 0.1, iter: 3000 l1_param: 0.05 ration: 0.5 -> rmse : 4.4107267323642825\n",
      "alpha: 0.1, iter: 3000 l1_param: 0.05 ration: 0.8 -> rmse : 3.1406067551421653\n",
      "alpha: 0.01, iter: 3000 l1_param: 0.5 ration: 0.2 -> rmse : 8.595934441083445\n",
      "alpha: 0.01, iter: 3000 l1_param: 0.5 ration: 0.5 -> rmse : 8.28410084938646\n",
      "alpha: 0.01, iter: 3000 l1_param: 0.5 ration: 0.8 -> rmse : 7.476220214377356\n",
      "alpha: 0.01, iter: 3000 l1_param: 0.1 ration: 0.2 -> rmse : 6.4980417088016\n",
      "alpha: 0.01, iter: 3000 l1_param: 0.1 ration: 0.5 -> rmse : 5.89694247346362\n",
      "alpha: 0.01, iter: 3000 l1_param: 0.1 ration: 0.8 -> rmse : 5.018877547802165\n",
      "alpha: 0.01, iter: 3000 l1_param: 0.05 ration: 0.2 -> rmse : 5.544092747239907\n",
      "alpha: 0.01, iter: 3000 l1_param: 0.05 ration: 0.5 -> rmse : 5.090669451696037\n",
      "alpha: 0.01, iter: 3000 l1_param: 0.05 ration: 0.8 -> rmse : 4.549107373655261\n"
     ]
    }
   ],
   "source": [
    "for n_it in [500, 1000, 3000]:\n",
    "    for alpha in [0.1, 0.01]:\n",
    "        for l1_param in [0.5, 0.1, 0.05]:\n",
    "            for ratio in [0.2, 0.5, 0.8]:\n",
    "                model = ElasticNetRegression(n_iter=n_it, alpha=alpha, l1_p=l1_param, ratio=ratio)\n",
    "                model.fit(x_train, y_train)\n",
    "                y_pred = model.predict(x_val)\n",
    "                if y_pred is None:\n",
    "                    res = 'diverge'\n",
    "                else:\n",
    "                    res = rmse(y=y_val, y_p=y_pred)\n",
    "                print(f'alpha: {alpha}, iter: {n_it} l1_param: {l1_param} ration: {ratio} -> rmse : {res}')"
   ],
   "metadata": {
    "collapsed": false
   }
  },
  {
   "cell_type": "code",
   "execution_count": 74,
   "outputs": [],
   "source": [],
   "metadata": {
    "collapsed": false
   }
  }
 ],
 "metadata": {
  "kernelspec": {
   "display_name": "Python 3 (ipykernel)",
   "language": "python",
   "name": "python3"
  },
  "language_info": {
   "codemirror_mode": {
    "name": "ipython",
    "version": 3
   },
   "file_extension": ".py",
   "mimetype": "text/x-python",
   "name": "python",
   "nbconvert_exporter": "python",
   "pygments_lexer": "ipython3",
   "version": "3.9.7"
  }
 },
 "nbformat": 4,
 "nbformat_minor": 5
}
